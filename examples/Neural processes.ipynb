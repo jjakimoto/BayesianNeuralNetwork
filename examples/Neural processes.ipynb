{
 "cells": [
  {
   "cell_type": "code",
   "execution_count": 44,
   "metadata": {},
   "outputs": [],
   "source": [
    "def model(data):\n",
    "    alpha0 = torch.tensor(10.)\n",
    "    beta0 = torch.tensor(10.)\n",
    "    f = pyro.sample('latent_fairness', dist.Beta(alpha0, beta0))\n",
    "    for i in pyro.iarange('data_loop', len(data)):\n",
    "        pyro.sample('obs', dist.Bernoulli(f), obs=data)"
   ]
  },
  {
   "cell_type": "code",
   "execution_count": 459,
   "metadata": {},
   "outputs": [],
   "source": [
    "import numpy as np\n",
    "\n",
    "scale = 1\n",
    "\n",
    "X = np.linspace(-4, 4, 100)[:, None] / scale\n",
    "train_X = np.random.choice(X[:, 0], size=50)[:, None]\n",
    "train_y = np.abs(np.sin(train_X * scale))\n",
    "y = np.sin(X)"
   ]
  },
  {
   "cell_type": "code",
   "execution_count": 460,
   "metadata": {},
   "outputs": [
    {
     "data": {
      "text/plain": [
       "<matplotlib.collections.PathCollection at 0x7efe6cc7a978>"
      ]
     },
     "execution_count": 460,
     "metadata": {},
     "output_type": "execute_result"
    },
    {
     "data": {
      "image/png": "[encoded data removed]",
      "text/plain": [
       "<matplotlib.figure.Figure at 0x7efe6c080908>"
      ]
     },
     "metadata": {},
     "output_type": "display_data"
    }
   ],
   "source": [
    "import matplotlib.pyplot as plt\n",
    "%matplotlib inline\n",
    "\n",
    "plt.scatter(train_X, train_y)"
   ]
  },
  {
   "cell_type": "code",
   "execution_count": 461,
   "metadata": {},
   "outputs": [],
   "source": [
    "import torch\n",
    "import torch.nn as nn\n",
    "import torch.nn.functional as F\n",
    "import torch.utils.data as tdata\n",
    "\n",
    "import pyro\n",
    "import pyro.distributions as dist\n",
    "from pyro.infer import SVI, Trace_ELBO"
   ]
  },
  {
   "cell_type": "code",
   "execution_count": 462,
   "metadata": {},
   "outputs": [],
   "source": [
    "class MLP(nn.Module):\n",
    "    def __init__(self, input_dim, output_dim, hidden_dim, num_layers=2):\n",
    "        super(MLP, self).__init__()\n",
    "        self.layers = []\n",
    "        for i in range(num_layers):\n",
    "            if i == 0:\n",
    "                idim = input_dim\n",
    "            else:\n",
    "                idim = hidden_dim\n",
    "            odim = hidden_dim\n",
    "            layer = nn.Linear(idim, odim)\n",
    "            self.layers.append(layer)\n",
    "        self.layers.append(nn.Linear(hidden_dim, output_dim))\n",
    "        self.layers = nn.ModuleList(self.layers)\n",
    "    \n",
    "    def forward(self, x):\n",
    "        for layer in self.layers[:-1]:\n",
    "            x = F.relu(layer(x))\n",
    "        return self.layers[-1](x)\n",
    "    \n"
   ]
  },
  {
   "cell_type": "code",
   "execution_count": 463,
   "metadata": {},
   "outputs": [],
   "source": [
    "import math\n",
    "\n",
    "\n",
    "def inverse_softplus(x):\n",
    "    return math.log(math.exp(x) - 1)\n",
    "\n",
    "class NP(nn.Module):\n",
    "    def __init__(self, input_dim, output_dim, hidden_dim, rep_dim, noise=1.0):\n",
    "        super(NP, self).__init__()\n",
    "        self.enc_input_dim = input_dim + output_dim\n",
    "        self.enc_output_dim = rep_dim\n",
    "        self.dec_input_dim = rep_dim + input_dim\n",
    "        self.dec_output_dim = output_dim\n",
    "        self.encoder = MLP(self.enc_input_dim, self.enc_output_dim, hidden_dim)\n",
    "        self.decoder = MLP(self.dec_input_dim, self.dec_output_dim, hidden_dim)\n",
    "        self.loc_lin = nn.Linear(rep_dim, hidden_dim)\n",
    "        self.scale_lin = nn.Linear(rep_dim, hidden_dim)\n",
    "        # self.noise_inverse = inverse_softplus(1.0)\n",
    "        self.noise = noise\n",
    "        \n",
    "    def model(self, Xc, yc, X, y):\n",
    "        # Register all model parameters\n",
    "        pyro.module('NP', self)\n",
    "        # Producde represenation\n",
    "        # noise_param = pyro.param('noise_inverse', torch.tensor(self.noise_inverse))\n",
    "        # noise_param = F.softplus(noise_param)\n",
    "        features_ctxt = torch.cat((Xc, yc), 1)\n",
    "        rep = self.encoder(features_ctxt)\n",
    "        rep = self._process_rep(rep)\n",
    "        # Generate hidden\n",
    "        loc = self.loc_lin(rep)\n",
    "        scale = F.softplus(self.scale_lin(rep))\n",
    "        hidden = pyro.sample('hidden', dist.Normal(loc, scale).independent(1))\n",
    "        # Predict test data\n",
    "        Xt = torch.cat((Xc, X), 0)\n",
    "        yt = torch.cat((yc, y), 0)\n",
    "        n_batch = Xt.size(0)\n",
    "        hidden_t = hidden.repeat([n_batch, 1])\n",
    "        features_t = torch.cat((Xt, hidden_t), 1)\n",
    "        obs_mean = self.decoder(features_t)\n",
    "        pyro.sample('obs', dist.Normal(obs_mean, self.noise), obs=yt)\n",
    "    \n",
    "    def guide(self, Xc, yc, X, y):\n",
    "        n_batch = X.size(0)\n",
    "        # Register all model parameters\n",
    "        pyro.module('NP', self)\n",
    "        # Producde represenation with both context data and test data\n",
    "        X_all = torch.cat((Xc, X), 0)\n",
    "        y_all = torch.cat((yc, y), 0)\n",
    "        features = torch.cat((X_all, y_all), 1)\n",
    "        rep = self.encoder(features)\n",
    "        rep = self._process_rep(rep)\n",
    "        # Generate hidden\n",
    "        loc = self.loc_lin(rep)\n",
    "        scale = F.softplus(self.scale_lin(rep))\n",
    "        hidden = pyro.sample('hidden', dist.Normal(loc, scale).independent(1))\n",
    "        \n",
    "    \n",
    "    def sample(self, Xc, yc, X, num_samples=1):\n",
    "        n_batch = X.size(0)\n",
    "        # Producde represenation\n",
    "        features_ctxt = torch.cat((Xc, yc), 1)\n",
    "        rep = self.encoder(features_ctxt)\n",
    "        rep = self._process_rep(rep)\n",
    "        # Generate hidden\n",
    "        loc = self.loc_lin(rep)\n",
    "        scale = F.softplus(self.scale_lin(rep))\n",
    "        hidden_dist = dist.Normal(loc, scale).independent(1)\n",
    "        hidden = hidden_dist.sample(torch.Size([num_samples, 1]))\n",
    "        print(np.std(hidden.detach().numpy(), 0))\n",
    "        n_batch = X.size(0)\n",
    "        hidden_ = hidden.repeat([1, n_batch, 1])\n",
    "        X_ = X.repeat([num_samples, 1, 1])\n",
    "        # Predict test data\n",
    "        features = torch.cat((X_, hidden_), -1)\n",
    "        pred_mean = self.decoder(features)\n",
    "        # noise_param = F.softplus(pyro.param('noise_inverse'))\n",
    "        return pred_mean\n",
    "    \n",
    "    \n",
    "    def predict(self, Xc, yc, X, num_samples=100):\n",
    "        Xc = torch.tensor(Xc).float()\n",
    "        yc = torch.tensor(yc).float()\n",
    "        X = torch.tensor(X).float()\n",
    "        samples = self.sample(Xc, yc, X, num_samples)\n",
    "        mean = torch.mean(samples, 0).detach().numpy()\n",
    "        std = torch.std(samples, 0).detach().numpy()\n",
    "        std = (std * self.noise) / (std + self.noise)\n",
    "        return mean, std\n",
    "        \n",
    "        \n",
    "    def _process_rep(self, x):\n",
    "        return torch.mean(x, 0)"
   ]
  },
  {
   "cell_type": "code",
   "execution_count": 464,
   "metadata": {},
   "outputs": [],
   "source": [
    "from tqdm import tqdm_notebook\n",
    "from sklearn.model_selection import train_test_split\n",
    "\n",
    "\n",
    "def train(X, y, model, optimizer, num_epochs=100, ctxt_ratio=0.5):\n",
    "    svi = SVI(model.model, model.guide, optimizer, loss=Trace_ELBO())\n",
    "    idx = np.arange(len(X))\n",
    "    X = torch.tensor(X).float()\n",
    "    y = torch.tensor(y).float()\n",
    "    for i in tqdm_notebook(range(num_epochs)):\n",
    "        idx_t, idx_c = train_test_split(idx, test_size=ctxt_ratio)\n",
    "        Xc = X[idx_c]\n",
    "        yc = y[idx_c]\n",
    "        Xt = X[idx_t]\n",
    "        yt = y[idx_t]\n",
    "        epoch_loss = svi.step(Xc, yc, Xt, yt)\n",
    "        if i % 100 == 0:\n",
    "            print(epoch_loss)"
   ]
  },
  {
   "cell_type": "code",
   "execution_count": 465,
   "metadata": {},
   "outputs": [
    {
     "data": {
      "application/vnd.jupyter.widget-view+json": {
       "model_id": "e44f69cc827d45ef8e46448a486ae008",
       "version_major": 2,
       "version_minor": 0
      },
      "text/html": [
       "<p>Failed to display Jupyter Widget of type <code>HBox</code>.</p>\n",
       "<p>\n",
       "  If you're reading this message in the Jupyter Notebook or JupyterLab Notebook, it may mean\n",
       "  that the widgets JavaScript is still loading. If this message persists, it\n",
       "  likely means that the widgets JavaScript library is either not installed or\n",
       "  not enabled. See the <a href=\"https://ipywidgets.readthedocs.io/en/stable/user_install.html\">Jupyter\n",
       "  Widgets Documentation</a> for setup instructions.\n",
       "</p>\n",
       "<p>\n",
       "  If you're reading this message in another frontend (for example, a static\n",
       "  rendering on GitHub or <a href=\"https://nbviewer.jupyter.org/\">NBViewer</a>),\n",
       "  it may mean that your frontend doesn't currently support widgets.\n",
       "</p>\n"
      ],
      "text/plain": [
       "HBox(children=(IntProgress(value=0, max=10000), HTML(value='')))"
      ]
     },
     "metadata": {},
     "output_type": "display_data"
    },
    {
     "name": "stdout",
     "output_type": "stream",
     "text": [
      "78636.697265625\n",
      "18079.900859355927\n",
      "17915.156786203384\n",
      "17038.722742021084\n",
      "15612.614574790001\n",
      "14299.818828582764\n",
      "13964.161402225494\n",
      "13879.11500453949\n",
      "13662.495804786682\n",
      "6020.749669075012\n",
      "3496.3047046661377\n",
      "3230.7340412139893\n",
      "2852.185929298401\n",
      "2758.3876361846924\n",
      "3385.4415760040283\n",
      "2488.949475288391\n",
      "2466.071997642517\n",
      "2449.444200515747\n",
      "2341.643162727356\n",
      "2390.4259090423584\n",
      "2415.3144607543945\n",
      "2354.481475830078\n",
      "2349.061839580536\n",
      "2349.348066329956\n",
      "2375.573579788208\n",
      "2451.777856826782\n",
      "2344.1453914642334\n",
      "2282.893036842346\n",
      "2337.1861181259155\n",
      "2284.724709510803\n",
      "2323.2816228866577\n",
      "2542.910140991211\n",
      "2684.070700645447\n",
      "2273.520047187805\n",
      "2362.3214254379272\n",
      "2264.3292379379272\n",
      "2331.2452325820923\n",
      "2271.2428765296936\n",
      "2473.466527938843\n",
      "2605.7125816345215\n",
      "2313.158473968506\n",
      "2283.093638420105\n",
      "2267.185815811157\n",
      "2321.790415763855\n",
      "2266.0105209350586\n",
      "2272.335376739502\n",
      "2307.994441986084\n",
      "2270.100350379944\n",
      "2282.603313446045\n",
      "2271.2757720947266\n",
      "2265.4732427597046\n",
      "2277.9555892944336\n",
      "2330.950090408325\n",
      "2263.6338119506836\n",
      "2320.5420246124268\n",
      "2382.5593214035034\n",
      "2309.8619441986084\n",
      "2273.107526779175\n",
      "2267.1037397384644\n",
      "2273.490634918213\n",
      "2290.7023825645447\n",
      "2286.5002298355103\n",
      "2266.942916870117\n",
      "2293.987374305725\n",
      "2284.7776927948\n",
      "2372.3196477890015\n",
      "2264.676995277405\n"
     ]
    },
    {
     "name": "stderr",
     "output_type": "stream",
     "text": [
      "Exception ignored in: <bound method Trace.__del__ of <pyro.poutine.trace_struct.Trace object at 0x7efe6e287860>>\n",
      "Traceback (most recent call last):\n",
      "  File \"/home/tom/anaconda3/lib/python3.6/site-packages/pyro/poutine/trace_struct.py\", line 109, in __del__\n",
      "    self._graph.__dict__.clear()\n",
      "KeyboardInterrupt\n"
     ]
    },
    {
     "name": "stdout",
     "output_type": "stream",
     "text": [
      "2492.285804748535\n",
      "2291.657467842102\n",
      "2281.472553253174\n",
      "2332.293429374695\n",
      "2258.7435054779053\n",
      "2287.915761947632\n",
      "2312.53475856781\n",
      "2266.4049072265625\n",
      "2264.173454284668\n",
      "2270.6301345825195\n"
     ]
    },
    {
     "ename": "KeyboardInterrupt",
     "evalue": "",
     "output_type": "error",
     "traceback": [
      "\u001b[0;31m---------------------------------------------------------------------------\u001b[0m",
      "\u001b[0;31mKeyboardInterrupt\u001b[0m                         Traceback (most recent call last)",
      "\u001b[0;32m<ipython-input-465-f7f6ff0397e6>\u001b[0m in \u001b[0;36m<module>\u001b[0;34m()\u001b[0m\n\u001b[1;32m     10\u001b[0m \u001b[0moptimizer\u001b[0m \u001b[0;34m=\u001b[0m \u001b[0mpyro\u001b[0m\u001b[0;34m.\u001b[0m\u001b[0moptim\u001b[0m\u001b[0;34m.\u001b[0m\u001b[0mAdam\u001b[0m\u001b[0;34m(\u001b[0m\u001b[0;34m{\u001b[0m\u001b[0;34m'lr'\u001b[0m\u001b[0;34m:\u001b[0m \u001b[0;36m1.0e-2\u001b[0m\u001b[0;34m}\u001b[0m\u001b[0;34m)\u001b[0m\u001b[0;34m\u001b[0m\u001b[0m\n\u001b[1;32m     11\u001b[0m \u001b[0;34m\u001b[0m\u001b[0m\n\u001b[0;32m---> 12\u001b[0;31m \u001b[0mtrain\u001b[0m\u001b[0;34m(\u001b[0m\u001b[0mtrain_X\u001b[0m\u001b[0;34m,\u001b[0m \u001b[0mtrain_y\u001b[0m\u001b[0;34m,\u001b[0m \u001b[0mmodel\u001b[0m\u001b[0;34m,\u001b[0m \u001b[0moptimizer\u001b[0m\u001b[0;34m,\u001b[0m \u001b[0mnum_epochs\u001b[0m\u001b[0;34m,\u001b[0m \u001b[0mctxt_ratio\u001b[0m\u001b[0;34m=\u001b[0m\u001b[0;36m.5\u001b[0m\u001b[0;34m)\u001b[0m\u001b[0;34m\u001b[0m\u001b[0m\n\u001b[0m",
      "\u001b[0;32m<ipython-input-464-2b4757aacad4>\u001b[0m in \u001b[0;36mtrain\u001b[0;34m(X, y, model, optimizer, num_epochs, ctxt_ratio)\u001b[0m\n\u001b[1;32m     14\u001b[0m         \u001b[0mXt\u001b[0m \u001b[0;34m=\u001b[0m \u001b[0mX\u001b[0m\u001b[0;34m[\u001b[0m\u001b[0midx_t\u001b[0m\u001b[0;34m]\u001b[0m\u001b[0;34m\u001b[0m\u001b[0m\n\u001b[1;32m     15\u001b[0m         \u001b[0myt\u001b[0m \u001b[0;34m=\u001b[0m \u001b[0my\u001b[0m\u001b[0;34m[\u001b[0m\u001b[0midx_t\u001b[0m\u001b[0;34m]\u001b[0m\u001b[0;34m\u001b[0m\u001b[0m\n\u001b[0;32m---> 16\u001b[0;31m         \u001b[0mepoch_loss\u001b[0m \u001b[0;34m=\u001b[0m \u001b[0msvi\u001b[0m\u001b[0;34m.\u001b[0m\u001b[0mstep\u001b[0m\u001b[0;34m(\u001b[0m\u001b[0mXc\u001b[0m\u001b[0;34m,\u001b[0m \u001b[0myc\u001b[0m\u001b[0;34m,\u001b[0m \u001b[0mXt\u001b[0m\u001b[0;34m,\u001b[0m \u001b[0myt\u001b[0m\u001b[0;34m)\u001b[0m\u001b[0;34m\u001b[0m\u001b[0m\n\u001b[0m\u001b[1;32m     17\u001b[0m         \u001b[0;32mif\u001b[0m \u001b[0mi\u001b[0m \u001b[0;34m%\u001b[0m \u001b[0;36m100\u001b[0m \u001b[0;34m==\u001b[0m \u001b[0;36m0\u001b[0m\u001b[0;34m:\u001b[0m\u001b[0;34m\u001b[0m\u001b[0m\n\u001b[1;32m     18\u001b[0m             \u001b[0mprint\u001b[0m\u001b[0;34m(\u001b[0m\u001b[0mepoch_loss\u001b[0m\u001b[0;34m)\u001b[0m\u001b[0;34m\u001b[0m\u001b[0m\n",
      "\u001b[0;32m~/anaconda3/lib/python3.6/site-packages/pyro/infer/svi.py\u001b[0m in \u001b[0;36mstep\u001b[0;34m(self, *args, **kwargs)\u001b[0m\n\u001b[1;32m     73\u001b[0m         \u001b[0;31m# get loss and compute gradients\u001b[0m\u001b[0;34m\u001b[0m\u001b[0;34m\u001b[0m\u001b[0m\n\u001b[1;32m     74\u001b[0m         \u001b[0;32mwith\u001b[0m \u001b[0mpoutine\u001b[0m\u001b[0;34m.\u001b[0m\u001b[0mtrace\u001b[0m\u001b[0;34m(\u001b[0m\u001b[0mparam_only\u001b[0m\u001b[0;34m=\u001b[0m\u001b[0;32mTrue\u001b[0m\u001b[0;34m)\u001b[0m \u001b[0;32mas\u001b[0m \u001b[0mparam_capture\u001b[0m\u001b[0;34m:\u001b[0m\u001b[0;34m\u001b[0m\u001b[0m\n\u001b[0;32m---> 75\u001b[0;31m             \u001b[0mloss\u001b[0m \u001b[0;34m=\u001b[0m \u001b[0mself\u001b[0m\u001b[0;34m.\u001b[0m\u001b[0mloss_and_grads\u001b[0m\u001b[0;34m(\u001b[0m\u001b[0mself\u001b[0m\u001b[0;34m.\u001b[0m\u001b[0mmodel\u001b[0m\u001b[0;34m,\u001b[0m \u001b[0mself\u001b[0m\u001b[0;34m.\u001b[0m\u001b[0mguide\u001b[0m\u001b[0;34m,\u001b[0m \u001b[0;34m*\u001b[0m\u001b[0margs\u001b[0m\u001b[0;34m,\u001b[0m \u001b[0;34m**\u001b[0m\u001b[0mkwargs\u001b[0m\u001b[0;34m)\u001b[0m\u001b[0;34m\u001b[0m\u001b[0m\n\u001b[0m\u001b[1;32m     76\u001b[0m \u001b[0;34m\u001b[0m\u001b[0m\n\u001b[1;32m     77\u001b[0m         params = set(site[\"value\"].unconstrained()\n",
      "\u001b[0;32m~/anaconda3/lib/python3.6/site-packages/pyro/infer/trace_elbo.py\u001b[0m in \u001b[0;36mloss_and_grads\u001b[0;34m(self, model, guide, *args, **kwargs)\u001b[0m\n\u001b[1;32m    140\u001b[0m             \u001b[0;32mif\u001b[0m \u001b[0mtrainable_params\u001b[0m \u001b[0;32mand\u001b[0m \u001b[0mgetattr\u001b[0m\u001b[0;34m(\u001b[0m\u001b[0msurrogate_elbo_particle\u001b[0m\u001b[0;34m,\u001b[0m \u001b[0;34m'requires_grad'\u001b[0m\u001b[0;34m,\u001b[0m \u001b[0;32mFalse\u001b[0m\u001b[0;34m)\u001b[0m\u001b[0;34m:\u001b[0m\u001b[0;34m\u001b[0m\u001b[0m\n\u001b[1;32m    141\u001b[0m                 \u001b[0msurrogate_loss_particle\u001b[0m \u001b[0;34m=\u001b[0m \u001b[0;34m-\u001b[0m\u001b[0msurrogate_elbo_particle\u001b[0m \u001b[0;34m/\u001b[0m \u001b[0mself\u001b[0m\u001b[0;34m.\u001b[0m\u001b[0mnum_particles\u001b[0m\u001b[0;34m\u001b[0m\u001b[0m\n\u001b[0;32m--> 142\u001b[0;31m                 \u001b[0msurrogate_loss_particle\u001b[0m\u001b[0;34m.\u001b[0m\u001b[0mbackward\u001b[0m\u001b[0;34m(\u001b[0m\u001b[0;34m)\u001b[0m\u001b[0;34m\u001b[0m\u001b[0m\n\u001b[0m\u001b[1;32m    143\u001b[0m \u001b[0;34m\u001b[0m\u001b[0m\n\u001b[1;32m    144\u001b[0m         \u001b[0mloss\u001b[0m \u001b[0;34m=\u001b[0m \u001b[0;34m-\u001b[0m\u001b[0melbo\u001b[0m\u001b[0;34m\u001b[0m\u001b[0m\n",
      "\u001b[0;32m~/anaconda3/lib/python3.6/site-packages/torch/tensor.py\u001b[0m in \u001b[0;36mbackward\u001b[0;34m(self, gradient, retain_graph, create_graph)\u001b[0m\n\u001b[1;32m     91\u001b[0m                 \u001b[0mproducts\u001b[0m\u001b[0;34m.\u001b[0m \u001b[0mDefaults\u001b[0m \u001b[0mto\u001b[0m\u001b[0;31m \u001b[0m\u001b[0;31m`\u001b[0m\u001b[0;31m`\u001b[0m\u001b[0;32mFalse\u001b[0m\u001b[0;31m`\u001b[0m\u001b[0;31m`\u001b[0m\u001b[0;34m.\u001b[0m\u001b[0;34m\u001b[0m\u001b[0m\n\u001b[1;32m     92\u001b[0m         \"\"\"\n\u001b[0;32m---> 93\u001b[0;31m         \u001b[0mtorch\u001b[0m\u001b[0;34m.\u001b[0m\u001b[0mautograd\u001b[0m\u001b[0;34m.\u001b[0m\u001b[0mbackward\u001b[0m\u001b[0;34m(\u001b[0m\u001b[0mself\u001b[0m\u001b[0;34m,\u001b[0m \u001b[0mgradient\u001b[0m\u001b[0;34m,\u001b[0m \u001b[0mretain_graph\u001b[0m\u001b[0;34m,\u001b[0m \u001b[0mcreate_graph\u001b[0m\u001b[0;34m)\u001b[0m\u001b[0;34m\u001b[0m\u001b[0m\n\u001b[0m\u001b[1;32m     94\u001b[0m \u001b[0;34m\u001b[0m\u001b[0m\n\u001b[1;32m     95\u001b[0m     \u001b[0;32mdef\u001b[0m \u001b[0mregister_hook\u001b[0m\u001b[0;34m(\u001b[0m\u001b[0mself\u001b[0m\u001b[0;34m,\u001b[0m \u001b[0mhook\u001b[0m\u001b[0;34m)\u001b[0m\u001b[0;34m:\u001b[0m\u001b[0;34m\u001b[0m\u001b[0m\n",
      "\u001b[0;32m~/anaconda3/lib/python3.6/site-packages/torch/autograd/__init__.py\u001b[0m in \u001b[0;36mbackward\u001b[0;34m(tensors, grad_tensors, retain_graph, create_graph, grad_variables)\u001b[0m\n\u001b[1;32m     87\u001b[0m     Variable._execution_engine.run_backward(\n\u001b[1;32m     88\u001b[0m         \u001b[0mtensors\u001b[0m\u001b[0;34m,\u001b[0m \u001b[0mgrad_tensors\u001b[0m\u001b[0;34m,\u001b[0m \u001b[0mretain_graph\u001b[0m\u001b[0;34m,\u001b[0m \u001b[0mcreate_graph\u001b[0m\u001b[0;34m,\u001b[0m\u001b[0;34m\u001b[0m\u001b[0m\n\u001b[0;32m---> 89\u001b[0;31m         allow_unreachable=True)  # allow_unreachable flag\n\u001b[0m\u001b[1;32m     90\u001b[0m \u001b[0;34m\u001b[0m\u001b[0m\n\u001b[1;32m     91\u001b[0m \u001b[0;34m\u001b[0m\u001b[0m\n",
      "\u001b[0;31mKeyboardInterrupt\u001b[0m: "
     ]
    }
   ],
   "source": [
    "input_dim = 1\n",
    "hidden_dim = 4\n",
    "rep_dim = 4\n",
    "output_dim = 1\n",
    "num_epochs = 10000\n",
    "\n",
    "pyro.clear_param_store()\n",
    "\n",
    "model = NP(input_dim, output_dim, hidden_dim, rep_dim, noise=1.0e-2)\n",
    "optimizer = pyro.optim.Adam({'lr': 1.0e-2})\n",
    "\n",
    "train(train_X, train_y, model, optimizer, num_epochs, ctxt_ratio=.5)"
   ]
  },
  {
   "cell_type": "code",
   "execution_count": 466,
   "metadata": {},
   "outputs": [
    {
     "name": "stdout",
     "output_type": "stream",
     "text": [
      "[[0.00425191 0.00510004 0.00233543 0.00808721]]\n"
     ]
    }
   ],
   "source": [
    "pred_mean, pred_std = model.predict(train_X, train_y, X, 100)"
   ]
  },
  {
   "cell_type": "code",
   "execution_count": 467,
   "metadata": {},
   "outputs": [
    {
     "data": {
      "text/plain": [
       "<matplotlib.collections.PolyCollection at 0x7efe6e38b7b8>"
      ]
     },
     "execution_count": 467,
     "metadata": {},
     "output_type": "execute_result"
    },
    {
     "data": {
      "image/png": "[encoded data removed]",
      "text/plain": [
       "<matplotlib.figure.Figure at 0x7efe6cdb7278>"
      ]
     },
     "metadata": {},
     "output_type": "display_data"
    }
   ],
   "source": [
    "# pred_mean = np.mean(predictions, 0)\n",
    "# pred_std = np.std(predictions, 0)\n",
    "plt.plot(X, pred_mean, color='k')\n",
    "plt.scatter(train_X, train_y, color='b')\n",
    "plt.fill_between(X[:, 0], pred_mean[:, 0] - 10 * pred_std[:, 0],\n",
    "                 pred_mean[:, 0] + 10 * pred_std[:, 0], color='gray', alpha='.5')"
   ]
  },
  {
   "cell_type": "code",
   "execution_count": 458,
   "metadata": {},
   "outputs": [
    {
     "data": {
      "text/plain": [
       "array([[0.00137281],\n",
       "       [0.00137282],\n",
       "       [0.00137281],\n",
       "       [0.00137282],\n",
       "       [0.00137283],\n",
       "       [0.00137282],\n",
       "       [0.00137281],\n",
       "       [0.00137283],\n",
       "       [0.00137281],\n",
       "       [0.00137285],\n",
       "       [0.00137282],\n",
       "       [0.00137283],\n",
       "       [0.00137283],\n",
       "       [0.00137284],\n",
       "       [0.00137283],\n",
       "       [0.00137281],\n",
       "       [0.00137283],\n",
       "       [0.00137283],\n",
       "       [0.00137283],\n",
       "       [0.00137285],\n",
       "       [0.00137283],\n",
       "       [0.00137281],\n",
       "       [0.00137281],\n",
       "       [0.0013728 ],\n",
       "       [0.0013728 ],\n",
       "       [0.0013728 ],\n",
       "       [0.00137281],\n",
       "       [0.00137281],\n",
       "       [0.00137283],\n",
       "       [0.00137279],\n",
       "       [0.00137281],\n",
       "       [0.00137283],\n",
       "       [0.00137278],\n",
       "       [0.00137279],\n",
       "       [0.00107266],\n",
       "       [0.00107266],\n",
       "       [0.00107265],\n",
       "       [0.00107269],\n",
       "       [0.00107263],\n",
       "       [0.00107266],\n",
       "       [0.00107267],\n",
       "       [0.00107266],\n",
       "       [0.00107271],\n",
       "       [0.00107268],\n",
       "       [0.00107271],\n",
       "       [0.00107266],\n",
       "       [0.00107269],\n",
       "       [0.00107269],\n",
       "       [0.00115693],\n",
       "       [0.0011569 ],\n",
       "       [0.00115693],\n",
       "       [0.00115692],\n",
       "       [0.0011569 ],\n",
       "       [0.00115693],\n",
       "       [0.0011569 ],\n",
       "       [0.00115694],\n",
       "       [0.00115694],\n",
       "       [0.0011569 ],\n",
       "       [0.00115692],\n",
       "       [0.00115693],\n",
       "       [0.00115693],\n",
       "       [0.0011569 ],\n",
       "       [0.00115692],\n",
       "       [0.00115687],\n",
       "       [0.00115692],\n",
       "       [0.00115689],\n",
       "       [0.00115695],\n",
       "       [0.00115689],\n",
       "       [0.00115693],\n",
       "       [0.00115693],\n",
       "       [0.0011569 ],\n",
       "       [0.00115692],\n",
       "       [0.00115686],\n",
       "       [0.00115693],\n",
       "       [0.00115692],\n",
       "       [0.00115695],\n",
       "       [0.00115695],\n",
       "       [0.00115692],\n",
       "       [0.00115696],\n",
       "       [0.0011569 ],\n",
       "       [0.00092544],\n",
       "       [0.00092547],\n",
       "       [0.00092543],\n",
       "       [0.0009255 ],\n",
       "       [0.0009254 ],\n",
       "       [0.00092538],\n",
       "       [0.00092551],\n",
       "       [0.00092548],\n",
       "       [0.00092543],\n",
       "       [0.00092537],\n",
       "       [0.0009255 ],\n",
       "       [0.00092542],\n",
       "       [0.00090212],\n",
       "       [0.        ],\n",
       "       [0.        ],\n",
       "       [0.        ],\n",
       "       [0.        ],\n",
       "       [0.        ],\n",
       "       [0.        ],\n",
       "       [0.        ]], dtype=float32)"
      ]
     },
     "execution_count": 458,
     "metadata": {},
     "output_type": "execute_result"
    }
   ],
   "source": [
    "pred_std"
   ]
  },
  {
   "cell_type": "code",
   "execution_count": 265,
   "metadata": {},
   "outputs": [
    {
     "data": {
      "text/plain": [
       "tensor(-1.0468)"
      ]
     },
     "execution_count": 265,
     "metadata": {},
     "output_type": "execute_result"
    }
   ],
   "source": [
    "pyro.param('noise_inverse')"
   ]
  },
  {
   "cell_type": "code",
   "execution_count": 409,
   "metadata": {},
   "outputs": [
    {
     "data": {
      "text/plain": [
       "tensor([ 0.2037, -0.5940, -0.0524])"
      ]
     },
     "execution_count": 409,
     "metadata": {},
     "output_type": "execute_result"
    }
   ],
   "source": [
    "x = torch.randn(10, 3)\n",
    "torch.mean(x, 0)"
   ]
  },
  {
   "cell_type": "code",
   "execution_count": 410,
   "metadata": {},
   "outputs": [
    {
     "data": {
      "text/plain": [
       "tensor([ 0.8799,  0.9923,  0.8428])"
      ]
     },
     "execution_count": 410,
     "metadata": {},
     "output_type": "execute_result"
    }
   ],
   "source": [
    "torch.std(x, 0)"
   ]
  },
  {
   "cell_type": "code",
   "execution_count": 317,
   "metadata": {},
   "outputs": [
    {
     "data": {
      "text/plain": [
       "torch.Size([3, 1, 2])"
      ]
     },
     "execution_count": 317,
     "metadata": {},
     "output_type": "execute_result"
    }
   ],
   "source": [
    "\n",
    "x.sample(torch.Size([3, 1])).shape"
   ]
  },
  {
   "cell_type": "code",
   "execution_count": null,
   "metadata": {},
   "outputs": [],
   "source": []
  }
 ],
 "metadata": {
  "kernelspec": {
   "display_name": "Python 3",
   "language": "python",
   "name": "python3"
  },
  "language_info": {
   "codemirror_mode": {
    "name": "ipython",
    "version": 3
   },
   "file_extension": ".py",
   "mimetype": "text/x-python",
   "name": "python",
   "nbconvert_exporter": "python",
   "pygments_lexer": "ipython3",
   "version": "3.6.4"
  }
 },
 "nbformat": 4,
 "nbformat_minor": 2
}
